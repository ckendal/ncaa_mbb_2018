{
 "cells": [
  {
   "cell_type": "markdown",
   "metadata": {},
   "source": [
    "# The Coin-Flip Bracket\n",
    "This year for the big college basketball tournament, I decided to use a **stochastic process** (i.e. *random process*) to fill out my bracket.\n",
    "\n",
    "You can view my complete bracket here:\n",
    "http://games.espn.com/tournament-challenge-bracket/2018/en/entry?entryID=17959239&sp=true\n",
    "\n",
    "To accomplish this, I used a random number generator (**rng**) to simulate flipping a fair coin, that is one with 50/50 chance for each outcome.\n",
    "\n",
    "Let's begin!"
   ]
  },
  {
   "cell_type": "markdown",
   "metadata": {},
   "source": [
    "## 1. Set-up"
   ]
  },
  {
   "cell_type": "code",
   "execution_count": 1,
   "metadata": {},
   "outputs": [],
   "source": [
    "# First we need to import the 'random' package for the rng\n",
    "import random\n",
    "import statistics"
   ]
  },
  {
   "cell_type": "markdown",
   "metadata": {},
   "source": [
    "Next, I will create a function, which I will call 'get_rand' which will act as the rng."
   ]
  },
  {
   "cell_type": "code",
   "execution_count": 2,
   "metadata": {},
   "outputs": [],
   "source": [
    "def get_rand():\n",
    "    \"\"\"This is a function to generate a random number between 0 and 1.\"\"\"\n",
    "    rand_num = random.random()\n",
    "    return rand_num"
   ]
  },
  {
   "cell_type": "code",
   "execution_count": 3,
   "metadata": {},
   "outputs": [
    {
     "data": {
      "text/plain": [
       "0.19322992473228495"
      ]
     },
     "execution_count": 3,
     "metadata": {},
     "output_type": "execute_result"
    }
   ],
   "source": [
    "get_rand()"
   ]
  },
  {
   "cell_type": "code",
   "execution_count": 4,
   "metadata": {},
   "outputs": [
    {
     "data": {
      "text/plain": [
       "0.6511718293963271"
      ]
     },
     "execution_count": 4,
     "metadata": {},
     "output_type": "execute_result"
    }
   ],
   "source": [
    "get_rand()"
   ]
  },
  {
   "cell_type": "code",
   "execution_count": 5,
   "metadata": {},
   "outputs": [
    {
     "data": {
      "text/plain": [
       "0.8659755444844094"
      ]
     },
     "execution_count": 5,
     "metadata": {},
     "output_type": "execute_result"
    }
   ],
   "source": [
    "get_rand()"
   ]
  },
  {
   "cell_type": "markdown",
   "metadata": {},
   "source": [
    "Observe how each time this function is called the numbers are usually different.\n",
    "\n",
    "Calling this function is fine, but I want to run a large number of simulations. I'll accomplish this by looping. \n",
    "- First, I'll create a variable, *n*, which will be the number of trials I intend to run. \n",
    "- Then, for the sake of transparency, I'll demonstrate that the rng for the coin-flip gives each outcome a 50% chance."
   ]
  },
  {
   "cell_type": "code",
   "execution_count": 6,
   "metadata": {},
   "outputs": [
    {
     "name": "stdout",
     "output_type": "stream",
     "text": [
      "0.5059108115853437\n",
      "0.506\n"
     ]
    }
   ],
   "source": [
    "# List to store results of rng\n",
    "results = []\n",
    "\n",
    "for i in range(10):\n",
    "    x = get_rand()\n",
    "    \n",
    "    # Add random number to list\n",
    "    results.append(x)\n",
    "\n",
    "# Calculate the average and round to 3 significant digits.\n",
    "avg = statistics.mean(results)\n",
    "print(avg)\n",
    "print(round(avg, 3))"
   ]
  },
  {
   "cell_type": "markdown",
   "metadata": {},
   "source": [
    "After 10 trials, the average of the random numbers generated approaches 0.500 or 50%. If we increase the number of trials, this should average should become more precise."
   ]
  },
  {
   "cell_type": "code",
   "execution_count": 7,
   "metadata": {},
   "outputs": [],
   "source": [
    "# Let's run 100 thousand trials for this process.\n",
    "n = 100000"
   ]
  },
  {
   "cell_type": "code",
   "execution_count": 8,
   "metadata": {},
   "outputs": [
    {
     "name": "stdout",
     "output_type": "stream",
     "text": [
      "0.5000309604032971\n",
      "0.5\n"
     ]
    }
   ],
   "source": [
    "# List to store results of rng\n",
    "results = []\n",
    "\n",
    "# Iterate n times\n",
    "for i in range(n):\n",
    "    x = get_rand()\n",
    "    \n",
    "    # Add random number to list\n",
    "    results.append(x)\n",
    "    \n",
    "# Calculate the average and round to 3 significant digits.\n",
    "avg = statistics.mean(results)\n",
    "print(avg)\n",
    "print(round(avg, 3))"
   ]
  },
  {
   "cell_type": "markdown",
   "metadata": {},
   "source": [
    "After several trials, we can see that the average is closer to 0.500. This shows that with a sufficient number of trials the simulated coin-flip is more likely to be fair."
   ]
  },
  {
   "cell_type": "markdown",
   "metadata": {},
   "source": [
    "Next, I'll write a function to randomly pick the winner of a game from a single coin-flip."
   ]
  },
  {
   "cell_type": "code",
   "execution_count": 9,
   "metadata": {},
   "outputs": [],
   "source": [
    "def pick_team(team1, team2):\n",
    "    \"\"\"Function to randomly pick a team based on a simulation of a fair (50/50) coin flip.\"\"\"\n",
    "    num = get_rand()\n",
    "    if(num > 0.5):\n",
    "        winner = team1\n",
    "    else:\n",
    "        winner = team2\n",
    "    return winner"
   ]
  },
  {
   "cell_type": "code",
   "execution_count": 10,
   "metadata": {},
   "outputs": [
    {
     "data": {
      "text/plain": [
       "'UVA'"
      ]
     },
     "execution_count": 10,
     "metadata": {},
     "output_type": "execute_result"
    }
   ],
   "source": [
    "# Let's flip a coin for the 1 vs 16 matchup in the South region this year.\n",
    "pick_team('UVA', 'UMBC')"
   ]
  },
  {
   "cell_type": "markdown",
   "metadata": {},
   "source": [
    "I will then create another function to repeat this function n times and save the results to a list."
   ]
  },
  {
   "cell_type": "code",
   "execution_count": 11,
   "metadata": {},
   "outputs": [],
   "source": [
    "def stochastic_pick(team1, team2, n):\n",
    "    \"\"\"Performs coin flip n-times to pick either team 1 or 2.\"\"\"\n",
    "    \n",
    "    # to store result from each iteration\n",
    "    result_list = []\n",
    "    \n",
    "    team1_wins = 0\n",
    "    team2_wins = 0\n",
    "    \n",
    "    for i in range(n):\n",
    "        pick = pick_team(team1, team2)\n",
    "        \n",
    "        if(pick==team1):\n",
    "            team1_wins = team1_wins + 1\n",
    "            result_list.append(pick)\n",
    "        else:\n",
    "            team2_wins = team2_wins + 1\n",
    "            result_list.append(pick)\n",
    "            \n",
    "    # after all iterations    \n",
    "    if(team1_wins > team2_wins):\n",
    "        winner = team1\n",
    "    elif(team2_wins > team1_wins):\n",
    "        winner = team2\n",
    "    elif(team1_wins == team2_wins):\n",
    "        # If tied after sim, sudden-death tie-breaker.\n",
    "        winner = pick_team(team1,team2,1)\n",
    "        \n",
    "    return winner"
   ]
  },
  {
   "cell_type": "code",
   "execution_count": 12,
   "metadata": {},
   "outputs": [
    {
     "data": {
      "text/plain": [
       "'UMBC'"
      ]
     },
     "execution_count": 12,
     "metadata": {},
     "output_type": "execute_result"
    }
   ],
   "source": [
    "stochastic_pick('UVA', 'UMBC', n)"
   ]
  },
  {
   "cell_type": "markdown",
   "metadata": {},
   "source": [
    "Next, these previous functions will help to create a new function to simulate a set of games. That way we can simulate an entire round in a given region with 1 call of the function."
   ]
  },
  {
   "cell_type": "code",
   "execution_count": 14,
   "metadata": {},
   "outputs": [],
   "source": [
    "def pick_round(games_list, n):\n",
    "    # games_list is a list of lists w/ each game for each round\n",
    "    \n",
    "    winners = []\n",
    "    \n",
    "    for matchup in games_list:\n",
    "\n",
    "        w = stochastic_pick(matchup[0],matchup[1],n)\n",
    "        winners.append(w)\n",
    "        \n",
    "    # Change output to list of lists\n",
    "        \n",
    "    if(len(winners) == 8):\n",
    "        winners = [[winners[0], winners[1]],\n",
    "                    [winners[2], winners[3]],\n",
    "                    [winners[4], winners[5]],\n",
    "                    [winners[6], winners[7]]]\n",
    "    elif(len(winners) == 4):\n",
    "        winners = [[winners[0], winners[1]],\n",
    "                    [winners[2], winners[3]]]\n",
    "        \n",
    "    return winners"
   ]
  },
  {
   "cell_type": "markdown",
   "metadata": {},
   "source": [
    "## 2. Simulate"
   ]
  },
  {
   "cell_type": "markdown",
   "metadata": {},
   "source": [
    "For the sake of brevity, the team names will be coded by their region and seed. This way we can repeat this tournament for different tournaments without have to change a lot of team names each time.\n",
    "\n",
    "Each set to be input into the function will be a list of lists, representing the teams in each region.\n",
    "- It is very important that the matchup be entered in the order they appear in the bracket from top to bottom.\n",
    "- The order matters because the output of the function will be the input for the next time the function is called.\n",
    "- This ensures that the proper matchups are created for the next round."
   ]
  },
  {
   "cell_type": "code",
   "execution_count": 15,
   "metadata": {},
   "outputs": [],
   "source": [
    "south = [['S1', 'S16'],\n",
    "         ['S8', 'S9'],\n",
    "         ['S5', 'S12'],\n",
    "         ['S4', 'S13'],\n",
    "         ['S6', 'S11'],\n",
    "         ['S3', 'S14'],\n",
    "         ['S7', 'S10'],\n",
    "         ['S2', 'S15']]"
   ]
  },
  {
   "cell_type": "code",
   "execution_count": 16,
   "metadata": {},
   "outputs": [],
   "source": [
    "west = [['W1', 'W16'],\n",
    "         ['W8', 'W9'],\n",
    "         ['W5', 'W12'],\n",
    "         ['W4', 'W13'],\n",
    "         ['W6', 'W11'],\n",
    "         ['W3', 'W14'],\n",
    "         ['W7', 'W10'],\n",
    "         ['W2', 'W15']]"
   ]
  },
  {
   "cell_type": "code",
   "execution_count": 17,
   "metadata": {},
   "outputs": [],
   "source": [
    "east = [['E1', 'E16'],\n",
    "         ['E8', 'E9'],\n",
    "         ['E5', 'E12'],\n",
    "         ['E4', 'E13'],\n",
    "         ['E6', 'E11'],\n",
    "         ['E3', 'E14'],\n",
    "         ['E7', 'E10'],\n",
    "         ['E2', 'E15']]"
   ]
  },
  {
   "cell_type": "code",
   "execution_count": 18,
   "metadata": {},
   "outputs": [],
   "source": [
    "midwest = [['MW1', 'MW16'],\n",
    "         ['MW8', 'MW9'],\n",
    "         ['MW5', 'MW12'],\n",
    "         ['MW4', 'MW13'],\n",
    "         ['MW6', 'MW11'],\n",
    "         ['MW3', 'MW14'],\n",
    "         ['MW7', 'MW10'],\n",
    "         ['MW2', 'MW15']]"
   ]
  },
  {
   "cell_type": "code",
   "execution_count": 19,
   "metadata": {},
   "outputs": [
    {
     "data": {
      "text/plain": [
       "[['S16', 'S8'], ['S12', 'S13'], ['S6', 'S14'], ['S7', 'S15']]"
      ]
     },
     "execution_count": 19,
     "metadata": {},
     "output_type": "execute_result"
    }
   ],
   "source": [
    "# After the first round, here are the picks:\n",
    "south_rd1 = pick_round(south, n)\n",
    "south_rd1"
   ]
  },
  {
   "cell_type": "code",
   "execution_count": 20,
   "metadata": {},
   "outputs": [
    {
     "data": {
      "text/plain": [
       "[['S8', 'S13'], ['S14', 'S7']]"
      ]
     },
     "execution_count": 20,
     "metadata": {},
     "output_type": "execute_result"
    }
   ],
   "source": [
    "# Next, simulate the remaining rounds to see which team advances to the semi-final.\n",
    "south_rd2 = pick_round(south_rd1, n)\n",
    "south_rd2"
   ]
  },
  {
   "cell_type": "code",
   "execution_count": 21,
   "metadata": {},
   "outputs": [
    {
     "data": {
      "text/plain": [
       "['S13', 'S7']"
      ]
     },
     "execution_count": 21,
     "metadata": {},
     "output_type": "execute_result"
    }
   ],
   "source": [
    "south_rd3 = pick_round(south_rd2, n)\n",
    "south_rd3"
   ]
  },
  {
   "cell_type": "code",
   "execution_count": 22,
   "metadata": {},
   "outputs": [
    {
     "data": {
      "text/plain": [
       "'S7'"
      ]
     },
     "execution_count": 22,
     "metadata": {},
     "output_type": "execute_result"
    }
   ],
   "source": [
    "south_winner = stochastic_pick('S13', 'S7', n)\n",
    "south_winner"
   ]
  },
  {
   "cell_type": "markdown",
   "metadata": {},
   "source": [
    "The first semi-finalist pick is the **7-seed** in the South region, which is **Nevada**."
   ]
  },
  {
   "cell_type": "markdown",
   "metadata": {},
   "source": [
    "Now, repeat this process for the remaining regions."
   ]
  },
  {
   "cell_type": "code",
   "execution_count": 23,
   "metadata": {},
   "outputs": [
    {
     "data": {
      "text/plain": [
       "[['W1', 'W8'], ['W5', 'W4'], ['W6', 'W14'], ['W7', 'W2']]"
      ]
     },
     "execution_count": 23,
     "metadata": {},
     "output_type": "execute_result"
    }
   ],
   "source": [
    "west_rd1 = pick_round(west, n)\n",
    "west_rd1"
   ]
  },
  {
   "cell_type": "code",
   "execution_count": 24,
   "metadata": {},
   "outputs": [
    {
     "data": {
      "text/plain": [
       "[['W8', 'W4'], ['W14', 'W2']]"
      ]
     },
     "execution_count": 24,
     "metadata": {},
     "output_type": "execute_result"
    }
   ],
   "source": [
    "west_rd2 = pick_round(west_rd1, n)\n",
    "west_rd2"
   ]
  },
  {
   "cell_type": "code",
   "execution_count": 25,
   "metadata": {},
   "outputs": [
    {
     "data": {
      "text/plain": [
       "['W8', 'W14']"
      ]
     },
     "execution_count": 25,
     "metadata": {},
     "output_type": "execute_result"
    }
   ],
   "source": [
    "west_rd3 = pick_round(west_rd2, n)\n",
    "west_rd3"
   ]
  },
  {
   "cell_type": "code",
   "execution_count": 26,
   "metadata": {},
   "outputs": [
    {
     "data": {
      "text/plain": [
       "'W8'"
      ]
     },
     "execution_count": 26,
     "metadata": {},
     "output_type": "execute_result"
    }
   ],
   "source": [
    "west_winner = stochastic_pick('W8', 'W14', n)\n",
    "west_winner"
   ]
  },
  {
   "cell_type": "markdown",
   "metadata": {},
   "source": [
    "**Missouri**, the **8-seed** in the West region advances to the semi-finals."
   ]
  },
  {
   "cell_type": "code",
   "execution_count": 27,
   "metadata": {},
   "outputs": [
    {
     "data": {
      "text/plain": [
       "[['E1', 'E8'], ['E12', 'E4'], ['E11', 'E3'], ['E7', 'E15']]"
      ]
     },
     "execution_count": 27,
     "metadata": {},
     "output_type": "execute_result"
    }
   ],
   "source": [
    "east_rd1 = pick_round(east, n)\n",
    "east_rd1"
   ]
  },
  {
   "cell_type": "code",
   "execution_count": 28,
   "metadata": {},
   "outputs": [
    {
     "data": {
      "text/plain": [
       "[['E8', 'E4'], ['E11', 'E7']]"
      ]
     },
     "execution_count": 28,
     "metadata": {},
     "output_type": "execute_result"
    }
   ],
   "source": [
    "east_rd2 = pick_round(east_rd1, n)\n",
    "east_rd2"
   ]
  },
  {
   "cell_type": "code",
   "execution_count": 29,
   "metadata": {},
   "outputs": [
    {
     "data": {
      "text/plain": [
       "['E8', 'E7']"
      ]
     },
     "execution_count": 29,
     "metadata": {},
     "output_type": "execute_result"
    }
   ],
   "source": [
    "east_rd3 = pick_round(east_rd2, n)\n",
    "east_rd3"
   ]
  },
  {
   "cell_type": "code",
   "execution_count": 30,
   "metadata": {},
   "outputs": [
    {
     "data": {
      "text/plain": [
       "'E7'"
      ]
     },
     "execution_count": 30,
     "metadata": {},
     "output_type": "execute_result"
    }
   ],
   "source": [
    "east_winner = stochastic_pick('E8', 'E7', n)\n",
    "east_winner"
   ]
  },
  {
   "cell_type": "markdown",
   "metadata": {},
   "source": [
    "**Arkansas**, the **7-seed** in the East region advances to the semi-finals."
   ]
  },
  {
   "cell_type": "code",
   "execution_count": 31,
   "metadata": {},
   "outputs": [
    {
     "data": {
      "text/plain": [
       "[['MW16', 'MW8'], ['MW12', 'MW4'], ['MW11', 'MW3'], ['MW7', 'MW2']]"
      ]
     },
     "execution_count": 31,
     "metadata": {},
     "output_type": "execute_result"
    }
   ],
   "source": [
    "midwest_rd1 = pick_round(midwest, n)\n",
    "midwest_rd1"
   ]
  },
  {
   "cell_type": "code",
   "execution_count": 32,
   "metadata": {},
   "outputs": [
    {
     "data": {
      "text/plain": [
       "[['MW8', 'MW4'], ['MW11', 'MW2']]"
      ]
     },
     "execution_count": 32,
     "metadata": {},
     "output_type": "execute_result"
    }
   ],
   "source": [
    "midwest_rd2 = pick_round(midwest_rd1, n)\n",
    "midwest_rd2"
   ]
  },
  {
   "cell_type": "code",
   "execution_count": 33,
   "metadata": {},
   "outputs": [
    {
     "data": {
      "text/plain": [
       "['MW4', 'MW2']"
      ]
     },
     "execution_count": 33,
     "metadata": {},
     "output_type": "execute_result"
    }
   ],
   "source": [
    "midwest_rd3 = pick_round(midwest_rd2, n)\n",
    "midwest_rd3"
   ]
  },
  {
   "cell_type": "code",
   "execution_count": 34,
   "metadata": {},
   "outputs": [
    {
     "data": {
      "text/plain": [
       "'MW4'"
      ]
     },
     "execution_count": 34,
     "metadata": {},
     "output_type": "execute_result"
    }
   ],
   "source": [
    "midwest_winner = stochastic_pick('MW4', 'MW2', n)\n",
    "midwest_winner"
   ]
  },
  {
   "cell_type": "markdown",
   "metadata": {},
   "source": [
    "**Auburn**, the **4-seed** in the Midwest region advances to the semi-finals."
   ]
  },
  {
   "cell_type": "markdown",
   "metadata": {},
   "source": [
    "Semi-finals:\n",
    "* South winner: **Nevada** vs West winner: **Missouri**\n",
    "* East winner: **Arkansas** vs Midwest winner: **Auburn**"
   ]
  },
  {
   "cell_type": "code",
   "execution_count": 35,
   "metadata": {},
   "outputs": [
    {
     "name": "stdout",
     "output_type": "stream",
     "text": [
      "S7\n",
      "E7\n"
     ]
    }
   ],
   "source": [
    "finalist_1 = stochastic_pick('S7', 'W8', n)\n",
    "finalist_2 = stochastic_pick('E7', 'MW4', n)\n",
    "\n",
    "print(finalist_1)\n",
    "print(finalist_2)"
   ]
  },
  {
   "cell_type": "markdown",
   "metadata": {},
   "source": [
    "The finalists are the **Nevada** and **Arkansas**."
   ]
  },
  {
   "cell_type": "markdown",
   "metadata": {},
   "source": [
    "## 3. Who's taking home the trophy?"
   ]
  },
  {
   "cell_type": "code",
   "execution_count": 37,
   "metadata": {},
   "outputs": [
    {
     "name": "stdout",
     "output_type": "stream",
     "text": [
      "E7\n"
     ]
    }
   ],
   "source": [
    "champion = stochastic_pick('S7', 'E7', n)\n",
    "\n",
    "print(champion)"
   ]
  },
  {
   "cell_type": "markdown",
   "metadata": {},
   "source": [
    "For most brackets, you have to predict the final score of the championship game. This is to determine a winning bracket in the event of a tie.\n",
    "\n",
    "Let's generate a couple more random numbers and round them to calculate the score."
   ]
  },
  {
   "cell_type": "code",
   "execution_count": 38,
   "metadata": {},
   "outputs": [
    {
     "data": {
      "text/plain": [
       "78"
      ]
     },
     "execution_count": 38,
     "metadata": {},
     "output_type": "execute_result"
    }
   ],
   "source": [
    "round(get_rand()*100)"
   ]
  },
  {
   "cell_type": "code",
   "execution_count": 39,
   "metadata": {},
   "outputs": [
    {
     "data": {
      "text/plain": [
       "63"
      ]
     },
     "execution_count": 39,
     "metadata": {},
     "output_type": "execute_result"
    }
   ],
   "source": [
    "round(get_rand()*100)"
   ]
  },
  {
   "cell_type": "markdown",
   "metadata": {},
   "source": [
    "According to our model, **Arkansas** will win the National Championship game by a score of **78 - 63**."
   ]
  },
  {
   "cell_type": "markdown",
   "metadata": {},
   "source": [
    "If you want to see how my bracket does throughout the tournament, you can bookmark this page: http://games.espn.com/tournament-challenge-bracket/2018/en/entry?entryID=17959239&sp=true"
   ]
  },
  {
   "cell_type": "code",
   "execution_count": null,
   "metadata": {},
   "outputs": [],
   "source": []
  }
 ],
 "metadata": {
  "kernelspec": {
   "display_name": "Python 3",
   "language": "python",
   "name": "python3"
  },
  "language_info": {
   "codemirror_mode": {
    "name": "ipython",
    "version": 3
   },
   "file_extension": ".py",
   "mimetype": "text/x-python",
   "name": "python",
   "nbconvert_exporter": "python",
   "pygments_lexer": "ipython3",
   "version": "3.6.1"
  }
 },
 "nbformat": 4,
 "nbformat_minor": 2
}
